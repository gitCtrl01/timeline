{
 "cells": [
  {
   "cell_type": "code",
   "execution_count": 1,
   "id": "58aeaff3",
   "metadata": {},
   "outputs": [],
   "source": [
    "import pandas as pd"
   ]
  },
  {
   "cell_type": "code",
   "execution_count": 7,
   "id": "11b503c7",
   "metadata": {},
   "outputs": [],
   "source": [
    "# Assuming you have data in a CSV file (replace with your actual data source)0\n",
    "col = ['Student_ID', 'Student_Name', 'Other_Unrelated_Columns','Exam_Status','Sem','Paper_Published','Final_Project_Implementation','Panel_PDF','Progress_Report_Allocated','Seminar','Year','UGC_or_Conference']\n",
    "data = pd.DataFrame([],columns=col)"
   ]
  },
  {
   "cell_type": "code",
   "execution_count": 8,
   "id": "4e7b6683",
   "metadata": {},
   "outputs": [],
   "source": [
    "# Feature 1: Time since the start of the program (in years)\n",
    "data['Time_Since_Start'] = data['Year'] - 1"
   ]
  },
  {
   "cell_type": "code",
   "execution_count": 9,
   "id": "4b24d8ea",
   "metadata": {},
   "outputs": [],
   "source": [
    "# Feature 2: Binary encoding of 'Exam_Status' (Pass/Fail)\n",
    "data['Exam_Pass'] = data['Exam_Status'].map({'Pass': 1, 'Fail': 0})\n",
    "\n",
    "# Feature 3: Binary encoding of 'Paper_Published' (Yes/No)\n",
    "data['Paper_Published_Binary'] = data['Paper_Published'].map({'Yes': 1, 'No': 0})\n",
    "\n",
    "# Feature 4: Binary encoding of 'UGC_or_Conference' (Yes/No)\n",
    "data['UGC_or_Conference_Binary'] = data['UGC_or_Conference'].map({'Yes': 1, 'No': 0})\n",
    "\n",
    "# Feature 5: Binary encoding of 'Seminar' (1 or 0)\n",
    "data['Seminar_Binary'] = data['Seminar']\n",
    "\n",
    "# Feature 6: Binary encoding of 'Progress_Report_Allocated' (Yes/No)\n",
    "data['Progress_Report_Allocated_Binary'] = data['Progress_Report_Allocated'].map({'Yes': 1, 'No': 0})\n",
    "\n",
    "# Feature 7: Binary encoding of 'Panel_PDF' (Yes/No)\n",
    "data['Panel_PDF_Binary'] = data['Panel_PDF'].map({'Yes': 1, 'No': 0})\n",
    "\n",
    "# Feature 8: Binary encoding of 'Final_Project_Implementation' (Yes/No)\n",
    "data['Final_Project_Implemented'] = data['Final_Project_Implementation'].map({'Yes': 1, 'No': 0})\n"
   ]
  },
  {
   "cell_type": "code",
   "execution_count": 10,
   "id": "50f95a80",
   "metadata": {},
   "outputs": [],
   "source": [
    "data.to_csv('engineered_student_data.csv', index=False)\n",
    "data.to_json('fee.json')"
   ]
  }
 ],
 "metadata": {
  "kernelspec": {
   "display_name": "Python 3 (ipykernel)",
   "language": "python",
   "name": "python3"
  },
  "language_info": {
   "codemirror_mode": {
    "name": "ipython",
    "version": 3
   },
   "file_extension": ".py",
   "mimetype": "text/x-python",
   "name": "python",
   "nbconvert_exporter": "python",
   "pygments_lexer": "ipython3",
   "version": "3.10.2"
  }
 },
 "nbformat": 4,
 "nbformat_minor": 5
}
