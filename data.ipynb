{
 "cells": [
  {
   "cell_type": "code",
   "execution_count": 1,
   "id": "240fa6a1",
   "metadata": {},
   "outputs": [],
   "source": [
    "import pandas as pd"
   ]
  },
  {
   "cell_type": "code",
   "execution_count": 21,
   "id": "37637014",
   "metadata": {
    "scrolled": true
   },
   "outputs": [],
   "source": [
    "# Assuming you have data in a CSV file (replace with your actual data source)0\n",
    "col = ['Student_ID', 'Student_Name', 'Other_Unrelated_Columns','Exam_Status','Sem','Paper_Published','Final_Project_Implementation','Panel_PDF','Progress_Report_Allocated','Seminar','Year','UGC_or_Conference']\n",
    "data = pd.DataFrame([],columns=col)"
   ]
  },
  {
   "cell_type": "code",
   "execution_count": 22,
   "id": "f0db96f7",
   "metadata": {},
   "outputs": [],
   "source": [
    "# Handling missing data (if any)\n",
    "data = data.dropna() "
   ]
  },
  {
   "cell_type": "code",
   "execution_count": 23,
   "id": "fcf93bb3",
   "metadata": {},
   "outputs": [],
   "source": [
    "data['Exam_Status'] = data['Exam_Status'].map({'Pass': 1, 'Fail': 0})"
   ]
  },
  {
   "cell_type": "code",
   "execution_count": 24,
   "id": "e2b6889a",
   "metadata": {},
   "outputs": [],
   "source": [
    "# Calculate the year when the student is expected to complete\n",
    "data['Expected_Completion_Year'] = data['Year'] + 2 "
   ]
  },
  {
   "cell_type": "code",
   "execution_count": 25,
   "id": "5d453f60",
   "metadata": {},
   "outputs": [],
   "source": [
    "# Save the preprocessed data to a new CSV file\n",
    "data.to_json('preprocessed_student_data.json')"
   ]
  }
 ],
 "metadata": {
  "kernelspec": {
   "display_name": "cuda-hello",
   "language": "python",
   "name": "cuda"
  },
  "language_info": {
   "codemirror_mode": {
    "name": "ipython",
    "version": 3
   },
   "file_extension": ".py",
   "mimetype": "text/x-python",
   "name": "python",
   "nbconvert_exporter": "python",
   "pygments_lexer": "ipython3",
   "version": "3.10.2"
  }
 },
 "nbformat": 4,
 "nbformat_minor": 5
}
