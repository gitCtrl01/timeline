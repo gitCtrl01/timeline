{
 "cells": [
  {
   "cell_type": "code",
   "execution_count": 3,
   "id": "a3f2004e",
   "metadata": {},
   "outputs": [],
   "source": [
    "import numpy as np\n",
    "from sklearn.model_selection import train_test_split\n",
    "from sklearn.ensemble import RandomForestRegressor\n",
    "from sklearn.preprocessing import StandardScaler\n",
    "import pandas as pd\n",
    "from datetime import datetime"
   ]
  },
  {
   "cell_type": "code",
   "execution_count": 16,
   "id": "f793090c",
   "metadata": {},
   "outputs": [],
   "source": [
    "# Generate some sample data (replace with real data in future)\n",
    "np.random.seed(0)\n",
    "n_samples = 100\n",
    "current_year = np.random.randint(2023, 2025, n_samples)\n",
    "sem_3_exams = np.random.choice([0, 1], n_samples)\n",
    "paper_published = np.random.choice([0, 1], n_samples)\n",
    "guide_allocated = np.random.choice([0, 1], n_samples)\n",
    "sem_4_exams = np.random.choice([0, 1], n_samples)\n",
    "project_implementation = np.random.choice([0, 1], n_samples)\n",
    "project_submission = np.random.randint(2024, 2026, n_samples)"
   ]
  },
  {
   "cell_type": "code",
   "execution_count": 17,
   "id": "87f0bfb8",
   "metadata": {},
   "outputs": [],
   "source": [
    "# Create the feature matrix (X) and target variable (y)\n",
    "X = np.column_stack((current_year, sem_3_exams, paper_published, guide_allocated, sem_4_exams, project_implementation))\n",
    "y = project_submission"
   ]
  },
  {
   "cell_type": "code",
   "execution_count": 18,
   "id": "a2d1a2fe",
   "metadata": {},
   "outputs": [],
   "source": [
    "# split of data\n",
    "X_train, X_test, y_train, y_test = train_test_split(X, y, test_size=0.2, random_state=42)"
   ]
  },
  {
   "cell_type": "code",
   "execution_count": 19,
   "id": "e6ad6b4f",
   "metadata": {},
   "outputs": [],
   "source": [
    "# standard scalar trans\n",
    "scaler = StandardScaler()\n",
    "X_train = scaler.fit_transform(X_train)\n",
    "X_test = scaler.transform(X_test)"
   ]
  },
  {
   "cell_type": "code",
   "execution_count": 27,
   "id": "5e64e282",
   "metadata": {},
   "outputs": [],
   "source": [
    "class timelinepred:\n",
    "    def __init__(self, learning_rate=0.01, n_iterations=1000):\n",
    "        self.learning_rate = learning_rate\n",
    "        self.n_iterations = n_iterations\n",
    "        self.weights = None\n",
    "        self.bias = None\n",
    "    def fit(self, X, y):\n",
    "        n_samples, n_features = X.shape\n",
    "        self.weights = np.zeros(n_features)\n",
    "        self.bias = 0\n",
    "\n",
    "        # Gradient descent\n",
    "        for _ in range(self.n_iterations):\n",
    "            y_predicted = np.dot(X, self.weights) + self.bias\n",
    "\n",
    "            # Compute gradients\n",
    "            dw = (1/n_samples) * np.dot(X.T, (y_predicted - y))\n",
    "            db = (1/n_samples) * np.sum(y_predicted - y)\n",
    "\n",
    "            # Update parameters\n",
    "            self.weights -= self.learning_rate * dw\n",
    "            self.bias -= self.learning_rate * db\n",
    "            \n",
    "            #loss function and over,under fit will be added\n",
    "    def predict(self, X):\n",
    "        return np.dot(X, self.weights) + self.bias"
   ]
  },
  {
   "cell_type": "code",
   "execution_count": 29,
   "id": "b7c2e570",
   "metadata": {},
   "outputs": [],
   "source": [
    "model = timelinepred(learning_rate=0.001, n_iterations=10000)\n",
    "model.fit(X_train,y_train)"
   ]
  },
  {
   "cell_type": "code",
   "execution_count": 30,
   "id": "ca04e266",
   "metadata": {},
   "outputs": [
    {
     "name": "stdout",
     "output_type": "stream",
     "text": [
      "Predicted Project Submission Year: 2024\n"
     ]
    }
   ],
   "source": [
    "predicted_submission_year = model.predict(X_test)\n",
    "print(f\"Predicted Project Submission Year: {int(predicted_submission_year[0])}\")"
   ]
  }
 ],
 "metadata": {
  "kernelspec": {
   "display_name": "cuda-hello",
   "language": "python",
   "name": "cuda"
  },
  "language_info": {
   "codemirror_mode": {
    "name": "ipython",
    "version": 3
   },
   "file_extension": ".py",
   "mimetype": "text/x-python",
   "name": "python",
   "nbconvert_exporter": "python",
   "pygments_lexer": "ipython3",
   "version": "3.10.2"
  }
 },
 "nbformat": 4,
 "nbformat_minor": 5
}
